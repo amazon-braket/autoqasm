{
 "cells": [
  {
   "cell_type": "code",
   "execution_count": 1,
   "id": "d034f1f1",
   "metadata": {},
   "outputs": [
    {
     "ename": "ModuleNotFoundError",
     "evalue": "No module named 'qir'",
     "output_type": "error",
     "traceback": [
      "\u001b[31m---------------------------------------------------------------------------\u001b[39m",
      "\u001b[31mModuleNotFoundError\u001b[39m                       Traceback (most recent call last)",
      "\u001b[36mCell\u001b[39m\u001b[36m \u001b[39m\u001b[32mIn[1]\u001b[39m\u001b[32m, line 4\u001b[39m\n\u001b[32m      2\u001b[39m \u001b[38;5;28;01mfrom\u001b[39;00m\u001b[38;5;250m \u001b[39m\u001b[34;01mllvmlite\u001b[39;00m\u001b[38;5;250m \u001b[39m\u001b[38;5;28;01mimport\u001b[39;00m ir\n\u001b[32m      3\u001b[39m \u001b[38;5;28;01mfrom\u001b[39;00m\u001b[38;5;250m \u001b[39m\u001b[34;01m__init__\u001b[39;00m\u001b[38;5;250m \u001b[39m\u001b[38;5;28;01mimport\u001b[39;00m load\n\u001b[32m----> \u001b[39m\u001b[32m4\u001b[39m \u001b[38;5;28;01mfrom\u001b[39;00m\u001b[38;5;250m \u001b[39m\u001b[34;01mqir\u001b[39;00m\u001b[34;01m.\u001b[39;00m\u001b[34;01mqir_profile\u001b[39;00m\u001b[38;5;250m \u001b[39m\u001b[38;5;28;01mimport\u001b[39;00m BaseProfile\n",
      "\u001b[31mModuleNotFoundError\u001b[39m: No module named 'qir'"
     ]
    }
   ],
   "source": [
    "from llvmlite.binding import TypeRef\n",
    "from llvmlite import ir\n",
    "from __init__ import load\n",
    "from qir.qir_profile import BaseProfile"
   ]
  },
  {
   "cell_type": "code",
   "execution_count": null,
   "id": "8207214a",
   "metadata": {},
   "outputs": [],
   "source": [
    "pf = BaseProfile()"
   ]
  },
  {
   "cell_type": "code",
   "execution_count": null,
   "id": "ae7d1c45",
   "metadata": {},
   "outputs": [],
   "source": [
    "qubit_type = ir.global_context.get_identified_type(\"Qubit\")\n",
    "x = {}\n",
    "x[qubit_type] = 1\n",
    "fn_type = ir.FunctionType(ir.VoidType(), [qubit_type.as_pointer()]).as_pointer()"
   ]
  },
  {
   "cell_type": "code",
   "execution_count": null,
   "id": "68b8d1c5",
   "metadata": {},
   "outputs": [],
   "source": [
    "path = \"../QIR-example/bernstein_vazirani.ll\"\n",
    "# path = \"../QIR-example/bell.bc\"\n",
    "# path = \"../QIR-example/dynamic_allocation.bc\"\n",
    "# path = \"../QIR-example/CUDAQ_bell.ll\"\n",
    "# path = \"../QIR-example/base_profile.ll\""
   ]
  },
  {
   "cell_type": "code",
   "execution_count": null,
   "id": "e6f725a0",
   "metadata": {},
   "outputs": [],
   "source": [
    "def function_types_equal(t1: ir.FunctionType, t2: ir.FunctionType) -> bool:\n",
    "    if type(t1) is not ir.FunctionType or type(t2) is not ir.FunctionType:\n",
    "        return False\n",
    "    if str(t1.return_type) != str(t2.return_type):\n",
    "        return False\n",
    "    if len(t1.args) != len(t2.args):\n",
    "        return False\n",
    "    for a1, a2 in zip(t1.args, t2.args):\n",
    "        if str(a1) != str(a2):\n",
    "            return False\n",
    "    return t1.var_arg == t2.var_arg"
   ]
  },
  {
   "cell_type": "code",
   "execution_count": null,
   "id": "c635987b",
   "metadata": {},
   "outputs": [],
   "source": [
    "mod = load(path)"
   ]
  },
  {
   "cell_type": "code",
   "execution_count": null,
   "id": "c75727e0",
   "metadata": {},
   "outputs": [
    {
     "name": "stdout",
     "output_type": "stream",
     "text": [
      "---Checking Function Declaration---\n",
      "\n",
      "Declaration: \t declare void @__quantum__qis__h__body(%Qubit*)\n",
      "Function Name: \t __quantum__qis__h__body\n",
      "Function Type: \t void (%Qubit*)\n",
      "Assumed Type: \t void (%\"Qubit\"*)*, void (%\"Qubit\"*)*\n",
      "Checking Type: \t True\n",
      "\n",
      "\n",
      "Declaration: \t declare void @__quantum__qis__z__body(%Qubit*)\n",
      "Function Name: \t __quantum__qis__z__body\n",
      "Function Type: \t void (%Qubit*)\n",
      "Assumed Type: \t void (%\"Qubit\"*)*, void (%\"Qubit\"*)*\n",
      "Checking Type: \t True\n",
      "\n",
      "\n",
      "Declaration: \t declare void @__quantum__qis__cnot__body(%Qubit*, %Qubit*)\n",
      "Function Name: \t __quantum__qis__cnot__body\n",
      "Function Type: \t void (%Qubit*, %Qubit*)\n",
      "Assumed Type: \t void (%\"Qubit\"*, %\"Qubit\"*)*, void (%\"Qubit\"*, %\"Qubit\"*)*\n",
      "Checking Type: \t True\n",
      "\n",
      "\n",
      "Declaration: \t declare void @__quantum__qis__mz__body(%Qubit*, %Result* writeonly) #1\n",
      "Function Name: \t __quantum__qis__mz__body\n",
      "Function Type: \t void (%Qubit*, %Result*)\n",
      "Assumed Type: \t void (%\"Qubit\"*, %\"Result\"*)*, void (%\"Qubit\"*, %\"Result\"*)*\n",
      "Checking Type: \t True\n",
      "\n",
      "\n"
     ]
    }
   ],
   "source": [
    "func_table = {}\n",
    "\n",
    "# Check Declaration\n",
    "print(\"---Checking Function Declaration---\\n\")\n",
    "for func in mod.functions:\n",
    "    if func.is_declaration:\n",
    "        \n",
    "        func_table[func.name] = func.type\n",
    "\n",
    "        print(f\"Declaration: \\t {func}\", end='')\n",
    "        print(f\"Function Name: \\t {func.name}\")\n",
    "\n",
    "        if func.name in pf.standard_functions.keys():\n",
    "            fn_type = pf.standard_functions[func.name].type\n",
    "        else:\n",
    "            fn_type = None\n",
    "\n",
    "        func_type = func.type\n",
    "        print(f\"Function Type: \\t {func_type.element_type}\")\n",
    "\n",
    "        toIRtype = func_type.as_ir(ir.Context())\n",
    "        print(f\"Assumed Type: \\t {toIRtype}, {fn_type}\")\n",
    "        print(f\"Checking Type: \\t {toIRtype == fn_type}\")\n",
    "        assert toIRtype == fn_type \n",
    "\n",
    "        # # print(\"func_type.element_type:\", func_type.element_type)\n",
    "        # for k, element in enumerate(func_type.element_type.elements):\n",
    "        #     if k == 0:\n",
    "        #         print(\n",
    "        #             \"Return Type: \\t\", element,\n",
    "        #             # \"\\t---VOID!!!\" if element.type_kind == 0 else ''\n",
    "        #         )\n",
    "        #     else:\n",
    "        #         print(f\"Params [{k-1}] Type:\\n\\t\", element)\n",
    "        #         # print(\"\\t \", \"element.is_opaque_struct:\", element.is_opaque_struct)\n",
    "        #         if element.is_pointer:\n",
    "        #             print(\"\\t\\t\", element.element_type.name, \"is_struct\", element.element_type.is_struct, )\n",
    "        print('\\n')\n",
    "        "
   ]
  }
 ],
 "metadata": {
  "kernelspec": {
   "display_name": "trans",
   "language": "python",
   "name": "python3"
  },
  "language_info": {
   "codemirror_mode": {
    "name": "ipython",
    "version": 3
   },
   "file_extension": ".py",
   "mimetype": "text/x-python",
   "name": "python",
   "nbconvert_exporter": "python",
   "pygments_lexer": "ipython3",
   "version": "3.11.13"
  }
 },
 "nbformat": 4,
 "nbformat_minor": 5
}
