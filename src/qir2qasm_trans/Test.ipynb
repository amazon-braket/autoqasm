{
 "cells": [
  {
   "cell_type": "code",
   "execution_count": 1,
   "id": "793e8acb",
   "metadata": {},
   "outputs": [],
   "source": [
    "import os\n",
    "import re\n",
    "\n",
    "from pyqir import BasicQisBuilder, Module, SimpleModule\n",
    "from qir_trans import load"
   ]
  },
  {
   "cell_type": "code",
   "execution_count": 2,
   "id": "6130195c",
   "metadata": {},
   "outputs": [],
   "source": [
    "def save_pyqir_module(module: Module, name: str, output_dir: str = \"QIR-example\") -> None:\n",
    "    \"\"\"Save a PyQIR module to both .ll and .bc files in the specified directory.\n",
    "\n",
    "    Args:\n",
    "        module (Module): A PyQIR Module object (usually from `pyqir.SimpleModule`)\n",
    "        output_dir (str): Directory to store output files (default is \"QIR-example\")\n",
    "    \"\"\"\n",
    "    # Ensure directory exists\n",
    "    os.makedirs(output_dir, exist_ok=True)\n",
    "\n",
    "    # Determine file paths\n",
    "    ll_path = os.path.join(output_dir, f\"{name}.ll\")\n",
    "    bc_path = os.path.join(output_dir, f\"{name}.bc\")\n",
    "\n",
    "    # Write .ll\n",
    "    with open(ll_path, \"w\") as f:\n",
    "        if type(module) is SimpleModule:\n",
    "            f.write(str(module.ir()))  # str returns IR text\n",
    "        else:\n",
    "            f.write(str(module))\n",
    "\n",
    "    # Write .bc (bitcode)\n",
    "    with open(bc_path, \"wb\") as f:\n",
    "        if type(module) is SimpleModule:\n",
    "            f.write(module.bitcode())\n",
    "        else:\n",
    "            f.write(module.bitcode)\n",
    "\n",
    "    print(f\"Saved QIR module '{name}' to:\\n  - {ll_path}\\n  - {bc_path}\")"
   ]
  },
  {
   "cell_type": "code",
   "execution_count": 3,
   "id": "e3845b2e",
   "metadata": {},
   "outputs": [
    {
     "name": "stdout",
     "output_type": "stream",
     "text": [
      "Saved QIR module 'bell_pair' to:\n",
      "  - QIR-example/bell_pair.ll\n",
      "  - QIR-example/bell_pair.bc\n"
     ]
    }
   ],
   "source": [
    "# Create the module with two qubits and two results.\n",
    "bell = SimpleModule(\"bell\", num_qubits=2, num_results=2)\n",
    "qis = BasicQisBuilder(bell.builder)\n",
    "\n",
    "# Add instructions to the module to create a Bell pair and measure both qubits.\n",
    "qis.cx(bell.qubits[0], bell.qubits[1])\n",
    "qis.cz(bell.qubits[0], bell.qubits[1])\n",
    "qis.rz(10, bell.qubits[0])\n",
    "qis.h(bell.qubits[0])\n",
    "qis.mz(bell.qubits[0], bell.results[0])\n",
    "qis.mz(bell.qubits[1], bell.results[1])\n",
    "save_pyqir_module(bell, \"bell_pair\")"
   ]
  },
  {
   "cell_type": "code",
   "execution_count": 4,
   "id": "f533abfe",
   "metadata": {},
   "outputs": [
    {
     "name": "stdout",
     "output_type": "stream",
     "text": [
      "Saved QIR module 'dynamic_allocation' to:\n",
      "  - QIR-example/dynamic_allocation.ll\n",
      "  - QIR-example/dynamic_allocation.bc\n"
     ]
    }
   ],
   "source": [
    "import pyqir\n",
    "from pyqir import (\n",
    "    BasicBlock,\n",
    "    Builder,\n",
    "    Context,\n",
    "    Function,\n",
    "    Linkage,\n",
    ")\n",
    "\n",
    "context = Context()\n",
    "mod = pyqir.qir_module(\n",
    "    context,\n",
    "    \"dynamic_allocation\",\n",
    "    qir_major_version=1,\n",
    "    qir_minor_version=0,\n",
    "    dynamic_qubit_management=True,\n",
    "    dynamic_result_management=True,\n",
    ")\n",
    "builder = Builder(context)\n",
    "\n",
    "# define external calls and type definitions\n",
    "qubit_type = pyqir.qubit_type(context)\n",
    "result_type = pyqir.result_type(context)\n",
    "\n",
    "# PyQIR assumes you want to use static allocation for qubits and results, but\n",
    "# you can still use dynamic allocation by manually calling the appropriate\n",
    "# runtime functions.\n",
    "qubit_allocate = Function(\n",
    "    pyqir.FunctionType(qubit_type, []),\n",
    "    Linkage.EXTERNAL,\n",
    "    \"__quantum__rt__qubit_allocate\",\n",
    "    mod,\n",
    ")\n",
    "\n",
    "qubit_release = Function(\n",
    "    pyqir.FunctionType(pyqir.Type.void(context), [qubit_type]),\n",
    "    Linkage.EXTERNAL,\n",
    "    \"__quantum__rt__qubit_release\",\n",
    "    mod,\n",
    ")\n",
    "\n",
    "result_get_one = Function(\n",
    "    pyqir.FunctionType(result_type, []),\n",
    "    Linkage.EXTERNAL,\n",
    "    \"__quantum__rt__result_get_one\",\n",
    "    mod,\n",
    ")\n",
    "\n",
    "result_equal = Function(\n",
    "    pyqir.FunctionType(pyqir.IntType(context, 1), [result_type, result_type]),\n",
    "    Linkage.EXTERNAL,\n",
    "    \"__quantum__rt__result_equal\",\n",
    "    mod,\n",
    ")\n",
    "\n",
    "m = Function(\n",
    "    pyqir.FunctionType(result_type, [qubit_type]),\n",
    "    Linkage.EXTERNAL,\n",
    "    \"__quantum__qis__m__body\",\n",
    "    mod,\n",
    ")\n",
    "\n",
    "# Create entry point\n",
    "num_qubits = 1\n",
    "num_results = 1\n",
    "entry_point = pyqir.entry_point(mod, \"main\", num_qubits, num_results)\n",
    "builder.insert_at_end(BasicBlock(context, \"entry\", entry_point))\n",
    "\n",
    "# Define entry point body\n",
    "qubit_return = builder.call(qubit_allocate, [])\n",
    "\n",
    "assert qubit_return is not None\n",
    "qubit = qubit_return\n",
    "\n",
    "qis = pyqir.BasicQisBuilder(builder)\n",
    "qis.h(qubit)\n",
    "\n",
    "# Instead of qis.mz, use __quantum__qis__m__body.\n",
    "result = builder.call(m, [qubit])\n",
    "assert result is not None\n",
    "\n",
    "# Instead of if_result, use __quantum__rt__result_equal and mod.if_.\n",
    "one = builder.call(result_get_one, [])\n",
    "assert one is not None\n",
    "result_is_one = builder.call(result_equal, [result, one])\n",
    "assert result_is_one is not None\n",
    "builder.if_(result_is_one, lambda: qis.reset(qubit))\n",
    "\n",
    "# Be sure to release any allocated qubits when you're done with them.\n",
    "builder.call(qubit_release, [qubit])\n",
    "\n",
    "# Add the termination of the entry point function.\n",
    "_ = builder.ret(None)\n",
    "\n",
    "# Verify the module and print it\n",
    "error = mod.verify()\n",
    "if error is not None:\n",
    "    raise ValueError(error)\n",
    "\n",
    "save_pyqir_module(mod, \"dynamic_allocation\")"
   ]
  },
  {
   "cell_type": "code",
   "execution_count": 5,
   "id": "af216d2b",
   "metadata": {},
   "outputs": [],
   "source": [
    "# path = \"QIR-example/dynamic_allocation.ll\"\n",
    "# mod = load(path)\n",
    "\n",
    "# # Check Declaration\n",
    "# print(\"---Checking Function Declaration---\\n\")\n",
    "# for func in mod.functions:\n",
    "#     if func.is_declaration:\n",
    "#         print(f\"Function: {func.name}\")\n",
    "#         func_type = func.type\n",
    "#         print(\"func_type:\", func_type)\n",
    "#         # print(\"func_type.element_type:\", func_type.element_type)\n",
    "\n",
    "#         for k, element in enumerate(func_type.element_type.elements):\n",
    "#             if k == 0:\n",
    "#                 print(\n",
    "#                     \"Return Type:\\n\\t\", element,\n",
    "#                     \"\\tVOID!!\" if element.type_kind == 0 else None\n",
    "#                 )\n",
    "#             else:\n",
    "#                 print(f\"Params {k} Type:\\n\\t\", element)\n",
    "#                 # print(\"\\t \", \"element.is_opaque_struct:\", element.is_opaque_struct)\n",
    "#                 # if element.is_pointer:\n",
    "#                 #     print(\"\\t\\t\", \"element.element_type\", element.element_type)\n",
    "#             print()\n",
    "#         print()\n",
    "\n",
    "\n",
    "# for func in mod.functions:\n",
    "#     # check main function definition\n",
    "#     if not func.is_declaration:\n",
    "#         main = func"
   ]
  },
  {
   "cell_type": "markdown",
   "id": "cebb5abb",
   "metadata": {},
   "source": [
    "Test pyqir"
   ]
  },
  {
   "cell_type": "code",
   "execution_count": 6,
   "id": "0f666d4a",
   "metadata": {},
   "outputs": [],
   "source": [
    "from pyqir import qis"
   ]
  },
  {
   "cell_type": "code",
   "execution_count": 7,
   "id": "eecaa632",
   "metadata": {},
   "outputs": [],
   "source": [
    "# TEST CASE FILE\n",
    "# path = \"QIR-example/bernstein_vazirani.ll\"\n",
    "# path = \"QIR-example/test.ll\"\n",
    "path = \"QIR-example/bell_pair.ll\"\n",
    "# path = \"QIR-example/dynamic_allocation.bc\"\n",
    "\n",
    "# Need to implement\n",
    "# path = \"QIR-example/dynamic_allocation.bc\"\n",
    "# path = \"QIR-example/CUDAQ_bell.ll\"\n",
    "# path = \"QIR-example/base_profile.ll\""
   ]
  },
  {
   "cell_type": "code",
   "execution_count": 8,
   "id": "6789bd29",
   "metadata": {},
   "outputs": [],
   "source": [
    "mod = load(path)"
   ]
  },
  {
   "cell_type": "code",
   "execution_count": 9,
   "id": "e14c97a0",
   "metadata": {},
   "outputs": [
    {
     "name": "stdout",
     "output_type": "stream",
     "text": [
      "---Checking Global Variables---\n",
      "\n"
     ]
    }
   ],
   "source": [
    "print(\"---Checking Global Variables---\\n\")\n",
    "for k, var in enumerate(mod.global_variables):\n",
    "    print(f\"Variables: \\t {var}\")\n",
    "    print(f\"\\t var.type: \\t {var.type}\")\n",
    "    print(f\"\\t var.name: \\t {var.name}\")\n",
    "    print(f\"\\t var.value: \\t {var.get_constant_value()}\")\n",
    "    print()"
   ]
  },
  {
   "cell_type": "code",
   "execution_count": 10,
   "id": "d508bb21",
   "metadata": {},
   "outputs": [
    {
     "name": "stdout",
     "output_type": "stream",
     "text": [
      "---Checking Global Structure---\n",
      "\n",
      "Structure: \t %Qubit = type opaque\n",
      "\t name: \t Qubit\n",
      "\t is_opaque: \t True\n",
      "\n",
      "Structure: \t %Result = type opaque\n",
      "\t name: \t Result\n",
      "\t is_opaque: \t True\n",
      "\n"
     ]
    }
   ],
   "source": [
    "print(\"---Checking Global Structure---\\n\")\n",
    "for k, s_type in enumerate(mod.struct_types):\n",
    "    print(f\"Structure: \\t {s_type}\")\n",
    "    print(f\"\\t name: \\t {s_type.name}\")\n",
    "    print(f\"\\t is_opaque: \\t {s_type.is_opaque_struct}\")\n",
    "    print()"
   ]
  },
  {
   "cell_type": "code",
   "execution_count": 11,
   "id": "a8e5a477",
   "metadata": {},
   "outputs": [
    {
     "name": "stdout",
     "output_type": "stream",
     "text": [
      "---Checking Function Declaration---\n",
      "\n",
      "Declaration: \t declare void @__quantum__qis__cnot__body(%Qubit*, %Qubit*)\n",
      "Function Name: \t __quantum__qis__cnot__body\n",
      "Function Type: \t void (%Qubit*, %Qubit*)\n",
      "Return Type: \t void\n",
      "Params [0] Type:\n",
      "\t %Qubit*\n",
      "\t\t Qubit is_struct True\n",
      "Params [1] Type:\n",
      "\t %Qubit*\n",
      "\t\t Qubit is_struct True\n",
      "\n",
      "\n",
      "Declaration: \t declare void @__quantum__qis__cz__body(%Qubit*, %Qubit*)\n",
      "Function Name: \t __quantum__qis__cz__body\n",
      "Function Type: \t void (%Qubit*, %Qubit*)\n",
      "Return Type: \t void\n",
      "Params [0] Type:\n",
      "\t %Qubit*\n",
      "\t\t Qubit is_struct True\n",
      "Params [1] Type:\n",
      "\t %Qubit*\n",
      "\t\t Qubit is_struct True\n",
      "\n",
      "\n",
      "Declaration: \t declare void @__quantum__qis__rz__body(double, %Qubit*)\n",
      "Function Name: \t __quantum__qis__rz__body\n",
      "Function Type: \t void (double, %Qubit*)\n",
      "Return Type: \t void\n",
      "Params [0] Type:\n",
      "\t double\n",
      "Params [1] Type:\n",
      "\t %Qubit*\n",
      "\t\t Qubit is_struct True\n",
      "\n",
      "\n",
      "Declaration: \t declare void @__quantum__qis__h__body(%Qubit*)\n",
      "Function Name: \t __quantum__qis__h__body\n",
      "Function Type: \t void (%Qubit*)\n",
      "Return Type: \t void\n",
      "Params [0] Type:\n",
      "\t %Qubit*\n",
      "\t\t Qubit is_struct True\n",
      "\n",
      "\n",
      "Declaration: \t declare void @__quantum__qis__mz__body(%Qubit*, %Result* writeonly) #1\n",
      "Function Name: \t __quantum__qis__mz__body\n",
      "Function Type: \t void (%Qubit*, %Result*)\n",
      "Return Type: \t void\n",
      "Params [0] Type:\n",
      "\t %Qubit*\n",
      "\t\t Qubit is_struct True\n",
      "Params [1] Type:\n",
      "\t %Result*\n",
      "\t\t Result is_struct True\n",
      "\n",
      "\n"
     ]
    }
   ],
   "source": [
    "func_table = {}\n",
    "\n",
    "# Check Declaration\n",
    "print(\"---Checking Function Declaration---\\n\")\n",
    "for func in mod.functions:\n",
    "    if func.is_declaration:\n",
    "        func_table[func.name] = func.type\n",
    "\n",
    "        print(f\"Declaration: \\t {func}\", end=\"\")\n",
    "        print(f\"Function Name: \\t {func.name}\")\n",
    "        func_type = func.type\n",
    "        print(f\"Function Type: \\t {func_type.element_type}\")\n",
    "        # print(\"func_type.element_type:\", func_type.element_type)\n",
    "        for k, element in enumerate(func_type.element_type.elements):\n",
    "            if k == 0:\n",
    "                print(\n",
    "                    \"Return Type: \\t\",\n",
    "                    element,\n",
    "                    # \"\\t---VOID!!!\" if element.type_kind == 0 else ''\n",
    "                )\n",
    "            else:\n",
    "                print(f\"Params [{k - 1}] Type:\\n\\t\", element)\n",
    "                # print(\"\\t \", \"element.is_opaque_struct:\", element.is_opaque_struct)\n",
    "                if element.is_pointer:\n",
    "                    print(\n",
    "                        \"\\t\\t\",\n",
    "                        element.element_type.name,\n",
    "                        \"is_struct\",\n",
    "                        element.element_type.is_struct,\n",
    "                    )\n",
    "        print(\"\\n\")"
   ]
  },
  {
   "cell_type": "code",
   "execution_count": 12,
   "id": "a8b1bcb4",
   "metadata": {},
   "outputs": [
    {
     "data": {
      "text/plain": [
       "{'__quantum__qis__cnot__body': <llvmlite.binding.typeref.TypeRef at 0x1147eda10>,\n",
       " '__quantum__qis__cz__body': <llvmlite.binding.typeref.TypeRef at 0x1147f49d0>,\n",
       " '__quantum__qis__rz__body': <llvmlite.binding.typeref.TypeRef at 0x11464d890>,\n",
       " '__quantum__qis__h__body': <llvmlite.binding.typeref.TypeRef at 0x1147f5e50>,\n",
       " '__quantum__qis__mz__body': <llvmlite.binding.typeref.TypeRef at 0x11462d390>}"
      ]
     },
     "execution_count": 12,
     "metadata": {},
     "output_type": "execute_result"
    }
   ],
   "source": [
    "func_table"
   ]
  },
  {
   "cell_type": "code",
   "execution_count": 13,
   "id": "b61416c9",
   "metadata": {},
   "outputs": [],
   "source": [
    "call_table = []\n",
    "var_table = []\n",
    "op_table = []"
   ]
  },
  {
   "cell_type": "code",
   "execution_count": 14,
   "id": "50490ef1",
   "metadata": {},
   "outputs": [
    {
     "name": "stdout",
     "output_type": "stream",
     "text": [
      "Block: \t entry\n",
      "Instuction: \t   call void @__quantum__qis__cnot__body(%Qubit* null, %Qubit* inttoptr (i64 1 to %Qubit*))\n",
      "\t Opcode: \t call\n",
      "\t Return Type: \t void\n",
      "\t Operands[0]: \t %Qubit* null\n",
      "\t\t op.type: \t %Qubit*\n",
      "\t\t op.value: \t %Qubit* null\n",
      "\t Operands[1]: \t %Qubit* inttoptr (i64 1 to %Qubit*)\n",
      "\t\t op.type: \t %Qubit*\n",
      "\t\t op.value: \t %Qubit* inttoptr (i64 1 to %Qubit*)\n",
      "\t Function Name:\t declare void @__quantum__qis__cnot__body(%Qubit*, %Qubit*)\n",
      "\n",
      "\n",
      "Instuction: \t   call void @__quantum__qis__cz__body(%Qubit* null, %Qubit* inttoptr (i64 1 to %Qubit*))\n",
      "\t Opcode: \t call\n",
      "\t Return Type: \t void\n",
      "\t Operands[0]: \t %Qubit* null\n",
      "\t\t op.type: \t %Qubit*\n",
      "\t\t op.value: \t %Qubit* null\n",
      "\t Operands[1]: \t %Qubit* inttoptr (i64 1 to %Qubit*)\n",
      "\t\t op.type: \t %Qubit*\n",
      "\t\t op.value: \t %Qubit* inttoptr (i64 1 to %Qubit*)\n",
      "\t Function Name:\t declare void @__quantum__qis__cz__body(%Qubit*, %Qubit*)\n",
      "\n",
      "\n",
      "Instuction: \t   call void @__quantum__qis__rz__body(double 1.000000e+01, %Qubit* null)\n",
      "\t Opcode: \t call\n",
      "\t Return Type: \t void\n",
      "\t Operands[0]: \t double 1.000000e+01\n",
      "\t\t op.type: \t double\n",
      "\t\t op.value: \t 10.0\n",
      "\t Operands[1]: \t %Qubit* null\n",
      "\t\t op.type: \t %Qubit*\n",
      "\t\t op.value: \t %Qubit* null\n",
      "\t Function Name:\t declare void @__quantum__qis__rz__body(double, %Qubit*)\n",
      "\n",
      "\n",
      "Instuction: \t   call void @__quantum__qis__h__body(%Qubit* null)\n",
      "\t Opcode: \t call\n",
      "\t Return Type: \t void\n",
      "\t Operands[0]: \t %Qubit* null\n",
      "\t\t op.type: \t %Qubit*\n",
      "\t\t op.value: \t %Qubit* null\n",
      "\t Function Name:\t declare void @__quantum__qis__h__body(%Qubit*)\n",
      "\n",
      "\n",
      "Instuction: \t   call void @__quantum__qis__mz__body(%Qubit* null, %Result* null)\n",
      "\t Opcode: \t call\n",
      "\t Return Type: \t void\n",
      "\t Operands[0]: \t %Qubit* null\n",
      "\t\t op.type: \t %Qubit*\n",
      "\t\t op.value: \t %Qubit* null\n",
      "\t Operands[1]: \t %Result* null\n",
      "\t\t op.type: \t %Result*\n",
      "\t\t op.value: \t %Result* null\n",
      "\t Function Name:\t declare void @__quantum__qis__mz__body(%Qubit*, %Result* writeonly) #1\n",
      "\n",
      "\n",
      "Instuction: \t   call void @__quantum__qis__mz__body(%Qubit* inttoptr (i64 1 to %Qubit*), %Result* inttoptr (i64 1 to %Result*))\n",
      "\t Opcode: \t call\n",
      "\t Return Type: \t void\n",
      "\t Operands[0]: \t %Qubit* inttoptr (i64 1 to %Qubit*)\n",
      "\t\t op.type: \t %Qubit*\n",
      "\t\t op.value: \t %Qubit* inttoptr (i64 1 to %Qubit*)\n",
      "\t Operands[1]: \t %Result* inttoptr (i64 1 to %Result*)\n",
      "\t\t op.type: \t %Result*\n",
      "\t\t op.value: \t %Result* inttoptr (i64 1 to %Result*)\n",
      "\t Function Name:\t declare void @__quantum__qis__mz__body(%Qubit*, %Result* writeonly) #1\n",
      "\n",
      "\n",
      "Instuction: \t   ret void\n",
      "\t Opcode: \t ret\n",
      "\t Return Type: \t void\n",
      "\n",
      "\n",
      "\n"
     ]
    }
   ],
   "source": [
    "for func in mod.functions:\n",
    "    # check main function definition\n",
    "    attr_dict = {}\n",
    "    for attr in func.attributes:\n",
    "        matches = re.findall(r'\"(\\w+)\"(?:=\"([^\"]*)\")?', attr.decode())\n",
    "        for k, v in matches:\n",
    "            if v != \"\":\n",
    "                attr_dict[k] = v\n",
    "            else:\n",
    "                attr_dict[k] = True\n",
    "\n",
    "    if \"entry_point\" in attr_dict.keys():\n",
    "        # if not func.is_declaration:\n",
    "        main = func\n",
    "        for block in main.blocks:\n",
    "            print(f\"Block: \\t {block.name}\")\n",
    "            for inst in block.instructions:\n",
    "                print(f\"Instuction: \\t {inst}\")\n",
    "                print(f\"\\t Opcode: \\t {inst.opcode}\")\n",
    "                # print(f\"\\t Visibility: \\t {inst.visibility}\")\n",
    "                print(f\"\\t Return Type: \\t {inst.type}\")\n",
    "\n",
    "                if inst.type.type_kind != \"void\":\n",
    "                    var_table.append(inst)\n",
    "\n",
    "                l = len([1 for _ in inst.operands])\n",
    "\n",
    "                if inst.opcode == \"call\":\n",
    "                    for k, op in enumerate(inst.operands):\n",
    "                        if k == l - 1:\n",
    "                            print(f\"\\t Function Name:\\t {op}\")\n",
    "\n",
    "                            call_table.append((op.name, op.type))\n",
    "\n",
    "                        else:\n",
    "                            # operands[-1] is the name of called function\n",
    "                            print(f\"\\t Operands[{k}]: \\t {op}\")\n",
    "                            print(f\"\\t\\t op.type: \\t {op.type}\")\n",
    "                            if op.is_constant:\n",
    "                                print(f\"\\t\\t op.value: \\t {op.get_constant_value()}\")\n",
    "                            else:\n",
    "                                print(f\"\\t\\t op.value_kind:\\t {op.value_kind.name}\")\n",
    "                                print(f\"\\t\\t op.parents: \\t {op._parents['instruction']}\")\n",
    "                                op_table.append(op)\n",
    "\n",
    "                            # print(op)\n",
    "                            # print(f\"\\t\\t op.value: \\t {op.get_constant_value()}\")\n",
    "                            # print(f\"\\t\\t\\t op.type.element_type: {op.type.element_type}\")\n",
    "                            # print(f\"\\t\\t\\t op.name: {op.type.element_type.name}\")\n",
    "                            # op_types.append(op.type.element_type)\n",
    "\n",
    "                elif inst.opcode == \"br\":\n",
    "                    if l == 1:\n",
    "                        for k, op in enumerate(inst.operands):\n",
    "                            print(f\"\\t Operands[{k}]: \\t label %{op.name}\")\n",
    "                            print(f\"\\t\\t op.type: \\t {op.type}\")\n",
    "\n",
    "                    elif l == 3:\n",
    "                        for k, op in enumerate(inst.operands):\n",
    "                            if k == 0:\n",
    "                                print(f\"\\t Operands[{k}]: \\t {op}\")\n",
    "                                print(f\"\\t\\t op.type: \\t {op.type}\")\n",
    "                                if op.is_constant:\n",
    "                                    print(f\"\\t\\t op.value: \\t {op.get_constant_value()}\")\n",
    "                                else:\n",
    "                                    print(f\"\\t\\t op.value_kind:\\t {op.value_kind.name}\")\n",
    "                            else:\n",
    "                                print(f\"\\t Operands[{k}]: \\t label %{op.name}\")\n",
    "                                print(f\"\\t\\t op.type: \\t {op.type}\")\n",
    "                print()\n",
    "            print(\"\\n\")"
   ]
  },
  {
   "cell_type": "code",
   "execution_count": 15,
   "id": "30567e20",
   "metadata": {},
   "outputs": [
    {
     "data": {
      "text/plain": [
       "[]"
      ]
     },
     "execution_count": 15,
     "metadata": {},
     "output_type": "execute_result"
    }
   ],
   "source": [
    "op_table"
   ]
  },
  {
   "cell_type": "code",
   "execution_count": 16,
   "id": "80ff81b3",
   "metadata": {},
   "outputs": [],
   "source": [
    "for op in op_table:\n",
    "    print(op in var_table)"
   ]
  },
  {
   "cell_type": "code",
   "execution_count": 17,
   "id": "e7982e00",
   "metadata": {},
   "outputs": [],
   "source": [
    "# for name, func_type in call_table:\n",
    "#     print(func_type, func_table[name])\n",
    "#     print(func_type == func_table[name])"
   ]
  },
  {
   "cell_type": "code",
   "execution_count": 18,
   "id": "6e376105",
   "metadata": {},
   "outputs": [
    {
     "name": "stdout",
     "output_type": "stream",
     "text": [
      "OPENQASM 3.0;\n",
      "include \"stdgates.inc\";\n",
      "qubit[2] Qubit;\n",
      "bit[2] Result;\n",
      "cx Qubit[0], Qubit[1];\n",
      "cz Qubit[0], Qubit[1];\n",
      "rz(10.0) Qubit[0];\n",
      "h Qubit[0];\n",
      "Result[0] = measure Qubit[0];\n",
      "Result[1] = measure Qubit[1];\n",
      "\n"
     ]
    }
   ],
   "source": [
    "import sys\n",
    "\n",
    "sys.path.insert(0, os.path.abspath(\".\"))\n",
    "from qir_trans.translator import Exporter\n",
    "\n",
    "print(Exporter().dumps(mod))"
   ]
  },
  {
   "cell_type": "code",
   "execution_count": 19,
   "id": "21323a64",
   "metadata": {},
   "outputs": [],
   "source": [
    "# # Get the list of QIS calls\n",
    "# calls: List[Call] = []\n",
    "\n",
    "# for block in entry_point.basic_blocks:\n",
    "#     for inst in block.instructions:\n",
    "#         if isinstance(inst, Call):\n",
    "#             calls.append(inst)"
   ]
  },
  {
   "cell_type": "code",
   "execution_count": 20,
   "id": "af9c8553",
   "metadata": {},
   "outputs": [],
   "source": [
    "# c = calls[1]\n",
    "# c.args[0]"
   ]
  },
  {
   "cell_type": "code",
   "execution_count": 21,
   "id": "9ec2ddbf",
   "metadata": {},
   "outputs": [],
   "source": [
    "# from qiskit.utils import optionals as _optionals\n",
    "# _optionals"
   ]
  }
 ],
 "metadata": {
  "kernelspec": {
   "display_name": "trans",
   "language": "python",
   "name": "python3"
  },
  "language_info": {
   "codemirror_mode": {
    "name": "ipython",
    "version": 3
   },
   "file_extension": ".py",
   "mimetype": "text/x-python",
   "name": "python",
   "nbconvert_exporter": "python",
   "pygments_lexer": "ipython3",
   "version": "3.11.13"
  }
 },
 "nbformat": 4,
 "nbformat_minor": 5
}
