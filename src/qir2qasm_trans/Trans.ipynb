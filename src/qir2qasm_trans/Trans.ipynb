{
 "cells": [
  {
   "cell_type": "code",
   "execution_count": 1,
   "id": "470baef4",
   "metadata": {},
   "outputs": [],
   "source": [
    "from qir_trans import load"
   ]
  },
  {
   "cell_type": "code",
   "execution_count": 2,
   "id": "47589c34",
   "metadata": {},
   "outputs": [],
   "source": [
    "# TEST CASE FILE\n",
    "# path = \"QIR-example/bernstein_vazirani.ll\"\n",
    "# path = \"QIR-example/test.ll\"\n",
    "# path = \"QIR-example/bell_pair.ll\"\n",
    "path = \"QIR-example/dynamic_allocation.bc\""
   ]
  },
  {
   "cell_type": "code",
   "execution_count": 3,
   "id": "deb495c6",
   "metadata": {},
   "outputs": [
    {
     "name": "stdout",
     "output_type": "stream",
     "text": [
      "OPENQASM 3.0;\n",
      "include \"stdgates.inc\";\n",
      "qubit[1] Qubit_tmp;\n",
      "bit[2] Result_tmp;\n",
      "array[bool, 1] BoolType_tmp;\n",
      "defcal __quantum__rt__qubit_allocate() q_ret {}\n",
      "defcal __quantum__rt__qubit_release() q {}\n",
      "__quantum__rt__qubit_allocate(Qubit_tmp[0]);\n",
      "h Qubit_tmp[0];\n",
      "Result_tmp[0] = measure Qubit_tmp[0];\n",
      "Result_tmp[1] = true;\n",
      "BoolType_tmp[0] = Result_tmp[0] == Result_tmp[1];\n",
      "reset Qubit_tmp[0];\n",
      "__quantum__rt__qubit_release(Qubit_tmp[0]);\n",
      "\n"
     ]
    }
   ],
   "source": [
    "mod = load(path)\n",
    "import sys\n",
    "import os\n",
    "sys.path.insert(0, os.path.abspath('.'))\n",
    "from qir_trans.translator import Exporter\n",
    "print(Exporter().dumps(mod))"
   ]
  }
 ],
 "metadata": {
  "kernelspec": {
   "display_name": "trans",
   "language": "python",
   "name": "python3"
  },
  "language_info": {
   "codemirror_mode": {
    "name": "ipython",
    "version": 3
   },
   "file_extension": ".py",
   "mimetype": "text/x-python",
   "name": "python",
   "nbconvert_exporter": "python",
   "pygments_lexer": "ipython3",
   "version": "3.11.13"
  }
 },
 "nbformat": 4,
 "nbformat_minor": 5
}
