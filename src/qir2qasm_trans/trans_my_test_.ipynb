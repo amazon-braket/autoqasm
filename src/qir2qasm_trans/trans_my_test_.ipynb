{
 "cells": [
  {
   "cell_type": "code",
   "execution_count": 1,
   "id": "470baef4",
   "metadata": {},
   "outputs": [],
   "source": [
    "from qir_trans import load\n",
    "import os\n",
    "import sys\n",
    "import tempfile\n",
    "import textwrap\n",
    "from qir_trans.translator import Exporter"
   ]
  },
  {
   "cell_type": "code",
   "execution_count": 2,
   "id": "5c4ba580",
   "metadata": {},
   "outputs": [
    {
     "ename": "Exception",
     "evalue": "Undefined llvm instruction: load",
     "output_type": "error",
     "traceback": [
      "\u001b[31m---------------------------------------------------------------------------\u001b[39m",
      "\u001b[31mException\u001b[39m                                 Traceback (most recent call last)",
      "\u001b[36mCell\u001b[39m\u001b[36m \u001b[39m\u001b[32mIn[2]\u001b[39m\u001b[32m, line 82\u001b[39m\n\u001b[32m     80\u001b[39m \u001b[38;5;66;03m# Convert to QASM using the Exporter\u001b[39;00m\n\u001b[32m     81\u001b[39m exporter = Exporter()\n\u001b[32m---> \u001b[39m\u001b[32m82\u001b[39m qasm_output = \u001b[43mexporter\u001b[49m\u001b[43m.\u001b[49m\u001b[43mdumps\u001b[49m\u001b[43m(\u001b[49m\u001b[43mmodule\u001b[49m\u001b[43m)\u001b[49m\n\u001b[32m     83\u001b[39m \u001b[38;5;28mprint\u001b[39m(qasm_output)\n",
      "\u001b[36mFile \u001b[39m\u001b[32m~/Desktop/Projects/Test/qir_translator/autoqasm/src/qir2qasm_trans/qir_trans/translator.py:92\u001b[39m, in \u001b[36mExporter.dumps\u001b[39m\u001b[34m(self, module)\u001b[39m\n\u001b[32m     90\u001b[39m \u001b[38;5;250m\u001b[39m\u001b[33;03m\"\"\"Convert the module to OpenQASM 3, returning the result as a string.\"\"\"\u001b[39;00m\n\u001b[32m     91\u001b[39m \u001b[38;5;28;01mwith\u001b[39;00m io.StringIO() \u001b[38;5;28;01mas\u001b[39;00m stream:\n\u001b[32m---> \u001b[39m\u001b[32m92\u001b[39m     \u001b[38;5;28;43mself\u001b[39;49m\u001b[43m.\u001b[49m\u001b[43mdump\u001b[49m\u001b[43m(\u001b[49m\u001b[43mmodule\u001b[49m\u001b[43m,\u001b[49m\u001b[43m \u001b[49m\u001b[43mstream\u001b[49m\u001b[43m)\u001b[49m\n\u001b[32m     93\u001b[39m     \u001b[38;5;28;01mreturn\u001b[39;00m stream.getvalue()\n",
      "\u001b[36mFile \u001b[39m\u001b[32m~/Desktop/Projects/Test/qir_translator/autoqasm/src/qir2qasm_trans/qir_trans/translator.py:98\u001b[39m, in \u001b[36mExporter.dump\u001b[39m\u001b[34m(self, module, stream)\u001b[39m\n\u001b[32m     96\u001b[39m \u001b[38;5;250m\u001b[39m\u001b[33;03m\"\"\"Convert the module to OpenQASM 3, dumping the result to a file or text stream.\"\"\"\u001b[39;00m\n\u001b[32m     97\u001b[39m builder = QASM3Builder(module, includeslist=\u001b[38;5;28mself\u001b[39m.includes, profile=\u001b[38;5;28mself\u001b[39m.profile)\n\u001b[32m---> \u001b[39m\u001b[32m98\u001b[39m Printer(stream).visit(\u001b[43mbuilder\u001b[49m\u001b[43m.\u001b[49m\u001b[43mbuild_program\u001b[49m\u001b[43m(\u001b[49m\u001b[43m)\u001b[49m)\n",
      "\u001b[36mFile \u001b[39m\u001b[32m~/Desktop/Projects/Test/qir_translator/autoqasm/src/qir2qasm_trans/qir_trans/translator.py:117\u001b[39m, in \u001b[36mQASM3Builder.build_program\u001b[39m\u001b[34m(self)\u001b[39m\n\u001b[32m    114\u001b[39m     include_statements.append(ast.Include(filename))\n\u001b[32m    116\u001b[39m func_decl_statements = \u001b[38;5;28mself\u001b[39m.build_func_declarations()\n\u001b[32m--> \u001b[39m\u001b[32m117\u001b[39m main_statements = \u001b[38;5;28;43mself\u001b[39;49m\u001b[43m.\u001b[49m\u001b[43mbuild_main\u001b[49m\u001b[43m(\u001b[49m\u001b[43m)\u001b[49m\n\u001b[32m    118\u001b[39m var_decl_statements = \u001b[38;5;28mself\u001b[39m.build_var_declarations()\n\u001b[32m    120\u001b[39m statements = (\n\u001b[32m    121\u001b[39m     include_statements + var_decl_statements + func_decl_statements + main_statements\n\u001b[32m    122\u001b[39m )\n",
      "\u001b[36mFile \u001b[39m\u001b[32m~/Desktop/Projects/Test/qir_translator/autoqasm/src/qir2qasm_trans/qir_trans/translator.py:270\u001b[39m, in \u001b[36mQASM3Builder.build_main\u001b[39m\u001b[34m(self)\u001b[39m\n\u001b[32m    267\u001b[39m \u001b[38;5;28mself\u001b[39m.entry_block = main_func.name\n\u001b[32m    268\u001b[39m \u001b[38;5;28;01mfor\u001b[39;00m block \u001b[38;5;129;01min\u001b[39;00m main_func.blocks:\n\u001b[32m    269\u001b[39m     \u001b[38;5;66;03m# self.build_block(block)\u001b[39;00m\n\u001b[32m--> \u001b[39m\u001b[32m270\u001b[39m     statements.extend(\u001b[38;5;28;43mself\u001b[39;49m\u001b[43m.\u001b[49m\u001b[43mbuild_block\u001b[49m\u001b[43m(\u001b[49m\u001b[43mblock\u001b[49m\u001b[43m)\u001b[49m)\n\u001b[32m    272\u001b[39m \u001b[38;5;28mself\u001b[39m.build_control()\n\u001b[32m    273\u001b[39m \u001b[38;5;28;01mreturn\u001b[39;00m statements\n",
      "\u001b[36mFile \u001b[39m\u001b[32m~/Desktop/Projects/Test/qir_translator/autoqasm/src/qir2qasm_trans/qir_trans/translator.py:279\u001b[39m, in \u001b[36mQASM3Builder.build_block\u001b[39m\u001b[34m(self, block)\u001b[39m\n\u001b[32m    277\u001b[39m block_name = block.name\n\u001b[32m    278\u001b[39m \u001b[38;5;28;01mfor\u001b[39;00m inst \u001b[38;5;129;01min\u001b[39;00m block.instructions:\n\u001b[32m--> \u001b[39m\u001b[32m279\u001b[39m     statements.extend(\u001b[38;5;28;43mself\u001b[39;49m\u001b[43m.\u001b[49m\u001b[43mbuild_instruction\u001b[49m\u001b[43m(\u001b[49m\u001b[43minst\u001b[49m\u001b[43m,\u001b[49m\u001b[43m \u001b[49m\u001b[43mblock_name\u001b[49m\u001b[43m)\u001b[49m)\n\u001b[32m    280\u001b[39m \u001b[38;5;28mself\u001b[39m.symbols.block_statements[block_name] = statements\n\u001b[32m    281\u001b[39m \u001b[38;5;28;01mreturn\u001b[39;00m statements\n",
      "\u001b[36mFile \u001b[39m\u001b[32m~/Desktop/Projects/Test/qir_translator/autoqasm/src/qir2qasm_trans/qir_trans/translator.py:307\u001b[39m, in \u001b[36mQASM3Builder.build_instruction\u001b[39m\u001b[34m(self, instruction, block_name)\u001b[39m\n\u001b[32m    305\u001b[39m     \u001b[38;5;28mself\u001b[39m.symbols.block_branchs[block_name] = BranchInfo(\u001b[38;5;28;01mNone\u001b[39;00m, [])\n\u001b[32m    306\u001b[39m \u001b[38;5;28;01melse\u001b[39;00m:\n\u001b[32m--> \u001b[39m\u001b[32m307\u001b[39m     \u001b[38;5;28;01mraise\u001b[39;00m \u001b[38;5;167;01mException\u001b[39;00m(\u001b[33mf\u001b[39m\u001b[33m\"\u001b[39m\u001b[33mUndefined llvm instruction: \u001b[39m\u001b[38;5;132;01m{\u001b[39;00minstruction.opcode\u001b[38;5;132;01m}\u001b[39;00m\u001b[33m\"\u001b[39m)\n\u001b[32m    308\u001b[39m \u001b[38;5;28;01mreturn\u001b[39;00m statements\n",
      "\u001b[31mException\u001b[39m: Undefined llvm instruction: load"
     ]
    }
   ],
   "source": [
    "qir_content = \"\"\"\n",
    "    ; ModuleID = 'instruction_error'\n",
    "    source_filename = \"instruction_error.ll\"\n",
    "\n",
    "    %Result = type opaque\n",
    "    %Qubit = type opaque\n",
    "\n",
    "    @str_r1 = internal constant [3 x i8] c\"r1\\\\00\"\n",
    "\n",
    "    declare void @my__result_record_output(%Result*, i8*)\n",
    "\n",
    "    define void @main() #0 {\n",
    "    entry:\n",
    "    call void @my__result_record_output(%Result* null, i8* getelementptr inbounds ([3 x i8], [3 x i8]* @str_r1, i32 0, i32 0))\n",
    "    ret void\n",
    "    }\n",
    "\n",
    "    attributes #0 = { \"entry_point\" \"output_labeling_schema\" \"qir_profiles\"=\"custom\" \"required_num_qubits\"=\"0\" \"required_num_results\"=\"0\" }\n",
    "\n",
    "    !llvm.module.flags = !{!0, !1, !2, !3}\n",
    "\n",
    "    !0 = !{i32 1, !\"qir_major_version\", i32 1}\n",
    "    !1 = !{i32 7, !\"qir_minor_version\", i32 0}\n",
    "    !2 = !{i32 1, !\"dynamic_qubit_management\", i1 false}\n",
    "    !3 = !{i32 1, !\"dynamic_result_management\", i1 false}\n",
    "    \"\"\"\n",
    "\n",
    "qir_content = \"\"\"\n",
    "    ; ModuleID = 'instruction_error'\n",
    "    source_filename = \"instruction_error.ll\"\n",
    "\n",
    "    %Result = type opaque\n",
    "\n",
    "    declare void @my_test(%Result*, %Result*)\n",
    "\n",
    "    define void @main() #0 {\n",
    "    entry:\n",
    "    call void @my_test(%Result* null, %Result* null)\n",
    "    ret void\n",
    "    }\n",
    "\n",
    "    attributes #0 = { \"entry_point\" \"output_labeling_schema\" \"qir_profiles\"=\"custom\" \"required_num_qubits\"=\"0\" \"required_num_results\"=\"0\" }\n",
    "\n",
    "    !llvm.module.flags = !{!0, !1, !2, !3}\n",
    "\n",
    "    !0 = !{i32 1, !\"qir_major_version\", i32 1}\n",
    "    !1 = !{i32 7, !\"qir_minor_version\", i32 0}\n",
    "    !2 = !{i32 1, !\"dynamic_qubit_management\", i1 false}\n",
    "    !3 = !{i32 1, !\"dynamic_result_management\", i1 false}\n",
    "    \"\"\"\n",
    "\n",
    "\n",
    "qir_content = \"\"\"\n",
    "        ; ModuleID = 'llvm_inst_error'\n",
    "        source_filename = \"llvm_inst_error.ll\"\n",
    "        %MyStruct = type { i32, float }\n",
    "\n",
    "        @g_i32     = global i32 42, align 4\n",
    "        @g_struct  = global %MyStruct { i32 1, float 1.000000e+00 }, align 8\n",
    "        @g_array   = global [4 x i8] zeroinitializer, align 1\n",
    "\n",
    "        define void @main() #0 {\n",
    "        entry:\n",
    "        %0 = load i32, i32* @g_i32, align 4\n",
    "        ret void\n",
    "        }\n",
    "\n",
    "        attributes #0 = {\"entry_point\" \"output_labeling_schema\" \"qir_profiles\"=\"custom\" \"required_num_qubits\"=\"0\" \"required_num_results\"=\"0\" }\n",
    "    \"\"\"\n",
    "\n",
    "\n",
    "# Create a temporary QIR file\n",
    "with tempfile.NamedTemporaryFile(mode=\"w\", suffix=\".ll\", delete=True) as temp_file:\n",
    "    temp_file.write(textwrap.dedent(qir_content))\n",
    "    temp_file.flush()  # Ensure content is written to disk\n",
    "\n",
    "    # Load the QIR module\n",
    "    module = load(temp_file.name)\n",
    "\n",
    "    # Convert to QASM using the Exporter\n",
    "    exporter = Exporter()\n",
    "    qasm_output = exporter.dumps(module)\n",
    "    print(qasm_output)"
   ]
  },
  {
   "cell_type": "code",
   "execution_count": null,
   "id": "78dca0c4",
   "metadata": {},
   "outputs": [],
   "source": [
    "# TEST CASE FILE\n",
    "path = \"../../test/resources/qir_test_file/rxx.ll\"\n",
    "# path = \"QIR-example/test.ll\"\n",
    "# path = \"QIR-example/bell_pair.ll\"\n",
    "# path = \"QIR-example/dynamic_allocation.bc\""
   ]
  },
  {
   "cell_type": "code",
   "execution_count": null,
   "id": "e36431a9",
   "metadata": {},
   "outputs": [
    {
     "name": "stdout",
     "output_type": "stream",
     "text": [
      "; ModuleID = '<string>'\n",
      "source_filename = \"bell\"\n",
      "\n",
      "%Qubit = type opaque\n",
      "\n",
      "define void @main() #0 {\n",
      "entry:\n",
      "  call void @__quantum__qis__rxx__body(double 1.000000e+00, %Qubit* null, %Qubit* inttoptr (i64 1 to %Qubit*))\n",
      "  ret void\n",
      "}\n",
      "\n",
      "declare void @__quantum__qis__rxx__body(double, %Qubit*, %Qubit*)\n",
      "\n",
      "attributes #0 = { \"entry_point\" \"output_labeling_schema\" \"qir_profiles\"=\"custom\" \"required_num_qubits\"=\"2\" \"required_num_results\"=\"0\" }\n",
      "\n",
      "!llvm.module.flags = !{!0, !1, !2, !3}\n",
      "\n",
      "!0 = !{i32 1, !\"qir_major_version\", i32 1}\n",
      "!1 = !{i32 7, !\"qir_minor_version\", i32 0}\n",
      "!2 = !{i32 1, !\"dynamic_qubit_management\", i1 false}\n",
      "!3 = !{i32 1, !\"dynamic_result_management\", i1 false}\n",
      "\n"
     ]
    }
   ],
   "source": [
    "mod = load(path)\n",
    "print(mod)"
   ]
  },
  {
   "cell_type": "code",
   "execution_count": null,
   "id": "deb495c6",
   "metadata": {},
   "outputs": [
    {
     "name": "stdout",
     "output_type": "stream",
     "text": [
      "OPENQASM 3.0;\n",
      "include \"stdgates.inc\";\n",
      "qubit[2] Qubits;\n",
      "gate rxx(θ) q0, q1 {\n",
      "  h q0;\n",
      "  h q1;\n",
      "  cx q0, q1;\n",
      "  rz(θ) q1;\n",
      "  cx q0, q1;\n",
      "  h q0;\n",
      "  h q1;\n",
      "}\n",
      "rxx(1.0) Qubits[0], Qubits[1];\n",
      "\n"
     ]
    }
   ],
   "source": [
    "print(Exporter().dumps(mod))"
   ]
  }
 ],
 "metadata": {
  "kernelspec": {
   "display_name": "trans",
   "language": "python",
   "name": "python3"
  },
  "language_info": {
   "codemirror_mode": {
    "name": "ipython",
    "version": 3
   },
   "file_extension": ".py",
   "mimetype": "text/x-python",
   "name": "python",
   "nbconvert_exporter": "python",
   "pygments_lexer": "ipython3",
   "version": "3.11.13"
  }
 },
 "nbformat": 4,
 "nbformat_minor": 5
}
