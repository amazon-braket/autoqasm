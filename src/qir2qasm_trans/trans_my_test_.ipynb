{
 "cells": [
  {
   "cell_type": "code",
   "execution_count": 1,
   "id": "470baef4",
   "metadata": {},
   "outputs": [],
   "source": [
    "from qir_trans import load\n",
    "import os\n",
    "import sys\n",
    "import tempfile\n",
    "import textwrap\n",
    "from qir_trans.translator import Exporter"
   ]
  },
  {
   "cell_type": "code",
   "execution_count": 2,
   "id": "5c4ba580",
   "metadata": {},
   "outputs": [],
   "source": [
    "# qir_content = \"\"\"\n",
    "#     ; ModuleID = 'instruction_error'\n",
    "#     source_filename = \"instruction_error.ll\"\n",
    "\n",
    "#     %Result = type opaque\n",
    "#     %Qubit = type opaque\n",
    "\n",
    "#     @str_r1 = internal constant [3 x i8] c\"r1\\\\00\"\n",
    "\n",
    "#     declare void @my__result_record_output(%Result*, i8*)\n",
    "\n",
    "#     define void @main() #0 {\n",
    "#     entry:\n",
    "#     call void @my__result_record_output(%Result* null, i8* getelementptr inbounds ([3 x i8], [3 x i8]* @str_r1, i32 0, i32 0))\n",
    "#     ret void\n",
    "#     }\n",
    "\n",
    "#     attributes #0 = { \"entry_point\" \"output_labeling_schema\" \"qir_profiles\"=\"custom\" \"required_num_qubits\"=\"0\" \"required_num_results\"=\"0\" }\n",
    "\n",
    "#     !llvm.module.flags = !{!0, !1, !2, !3}\n",
    "\n",
    "#     !0 = !{i32 1, !\"qir_major_version\", i32 1}\n",
    "#     !1 = !{i32 7, !\"qir_minor_version\", i32 0}\n",
    "#     !2 = !{i32 1, !\"dynamic_qubit_management\", i1 false}\n",
    "#     !3 = !{i32 1, !\"dynamic_result_management\", i1 false}\n",
    "#     \"\"\"\n",
    "\n",
    "# qir_content = \"\"\"\n",
    "#     ; ModuleID = 'instruction_error'\n",
    "#     source_filename = \"instruction_error.ll\"\n",
    "\n",
    "#     %Result = type opaque\n",
    "\n",
    "#     declare void @my_test(%Result*, %Result*)\n",
    "\n",
    "#     define void @main() #0 {\n",
    "#     entry:\n",
    "#     call void @my_test(%Result* null, %Result* null)\n",
    "#     ret void\n",
    "#     }\n",
    "\n",
    "#     attributes #0 = { \"entry_point\" \"output_labeling_schema\" \"qir_profiles\"=\"custom\" \"required_num_qubits\"=\"0\" \"required_num_results\"=\"0\" }\n",
    "\n",
    "#     !llvm.module.flags = !{!0, !1, !2, !3}\n",
    "\n",
    "#     !0 = !{i32 1, !\"qir_major_version\", i32 1}\n",
    "#     !1 = !{i32 7, !\"qir_minor_version\", i32 0}\n",
    "#     !2 = !{i32 1, !\"dynamic_qubit_management\", i1 false}\n",
    "#     !3 = !{i32 1, !\"dynamic_result_management\", i1 false}\n",
    "#     \"\"\"\n",
    "\n",
    "\n",
    "# qir_content = \"\"\"\n",
    "#         ; ModuleID = 'llvm_inst_error'\n",
    "#         source_filename = \"llvm_inst_error.ll\"\n",
    "#         %MyStruct = type { i32, float }\n",
    "\n",
    "#         @g_i32     = global i32 42, align 4\n",
    "#         @g_struct  = global %MyStruct { i32 1, float 1.000000e+00 }, align 8\n",
    "#         @g_array   = global [4 x i8] zeroinitializer, align 1\n",
    "\n",
    "#         define void @main() #0 {\n",
    "#         entry:\n",
    "#         %0 = load i32, i32* @g_i32, align 4\n",
    "#         ret void\n",
    "#         }\n",
    "\n",
    "#         attributes #0 = {\"entry_point\" \"output_labeling_schema\" \"qir_profiles\"=\"custom\" \"required_num_qubits\"=\"0\" \"required_num_results\"=\"0\" }\n",
    "#     \"\"\"\n",
    "\n",
    "\n",
    "# # Create a temporary QIR file\n",
    "# with tempfile.NamedTemporaryFile(mode=\"w\", suffix=\".ll\", delete=True) as temp_file:\n",
    "#     temp_file.write(textwrap.dedent(qir_content))\n",
    "#     temp_file.flush()  # Ensure content is written to disk\n",
    "\n",
    "#     # Load the QIR module\n",
    "#     module = load(temp_file.name)\n",
    "\n",
    "#     # Convert to QASM using the Exporter\n",
    "#     exporter = Exporter()\n",
    "#     qasm_output = exporter.dumps(module)\n",
    "#     print(qasm_output)"
   ]
  },
  {
   "cell_type": "code",
   "execution_count": 3,
   "id": "78dca0c4",
   "metadata": {},
   "outputs": [],
   "source": [
    "# TEST CASE FILE\n",
    "path = \"../../test/resources/qir_test_file/rxx.ll\"\n",
    "# path = \"QIR-example/test.ll\"\n",
    "# path = \"QIR-example/bell_pair.ll\"\n",
    "# path = \"QIR-example/dynamic_allocation.bc\""
   ]
  },
  {
   "cell_type": "code",
   "execution_count": 4,
   "id": "e36431a9",
   "metadata": {},
   "outputs": [
    {
     "name": "stdout",
     "output_type": "stream",
     "text": [
      "; ModuleID = '<string>'\n",
      "source_filename = \"rxx\"\n",
      "\n",
      "%Qubit = type opaque\n",
      "\n",
      "define void @main() #0 {\n",
      "entry:\n",
      "  call void @__quantum__qis__rxx__body(double 1.000000e+00, %Qubit* null, %Qubit* inttoptr (i64 1 to %Qubit*))\n",
      "  ret void\n",
      "}\n",
      "\n",
      "declare void @__quantum__qis__rxx__body(double, %Qubit*, %Qubit*)\n",
      "\n",
      "attributes #0 = { \"entry_point\" \"output_labeling_schema\" \"qir_profiles\"=\"custom\" \"required_num_qubits\"=\"2\" \"required_num_results\"=\"0\" }\n",
      "\n",
      "!llvm.module.flags = !{!0, !1, !2, !3}\n",
      "\n",
      "!0 = !{i32 1, !\"qir_major_version\", i32 1}\n",
      "!1 = !{i32 7, !\"qir_minor_version\", i32 0}\n",
      "!2 = !{i32 1, !\"dynamic_qubit_management\", i1 false}\n",
      "!3 = !{i32 1, !\"dynamic_result_management\", i1 false}\n",
      "\n"
     ]
    }
   ],
   "source": [
    "mod = load(path)\n",
    "print(mod)"
   ]
  },
  {
   "cell_type": "code",
   "execution_count": 5,
   "id": "deb495c6",
   "metadata": {},
   "outputs": [
    {
     "name": "stdout",
     "output_type": "stream",
     "text": [
      "OPENQASM 3.0;\n",
      "include \"stdgates.inc\";\n",
      "qubit[2] Qubits;\n",
      "gate rxx(θ) q0, q1 {\n",
      "  h q0;\n",
      "  h q1;\n",
      "  cx q0, q1;\n",
      "  rz(θ) q1;\n",
      "  cx q0, q1;\n",
      "  h q0;\n",
      "  h q1;\n",
      "}\n",
      "rxx(1.0) Qubits[0], Qubits[1];\n",
      "\n"
     ]
    }
   ],
   "source": [
    "print(Exporter().dumps(mod))"
   ]
  }
 ],
 "metadata": {
  "kernelspec": {
   "display_name": "trans",
   "language": "python",
   "name": "python3"
  },
  "language_info": {
   "codemirror_mode": {
    "name": "ipython",
    "version": 3
   },
   "file_extension": ".py",
   "mimetype": "text/x-python",
   "name": "python",
   "nbconvert_exporter": "python",
   "pygments_lexer": "ipython3",
   "version": "3.11.13"
  }
 },
 "nbformat": 4,
 "nbformat_minor": 5
}
